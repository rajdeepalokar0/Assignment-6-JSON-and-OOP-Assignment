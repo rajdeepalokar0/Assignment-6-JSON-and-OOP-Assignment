{
 "cells": [
  {
   "cell_type": "markdown",
   "id": "128eef0a",
   "metadata": {},
   "source": [
    "## Assignment 1"
   ]
  },
  {
   "cell_type": "code",
   "execution_count": null,
   "id": "4f47ee01",
   "metadata": {},
   "outputs": [],
   "source": [
    "1. Create a JSON file (employee.json) containing employee information of minimum 5 employees.\n",
    "Each employee information consists of Name, DOB, Height, City, State.\n",
    "Write a python program that reads this information from the JSON file and\n",
    "saves the information into a list of objects of Employee class. \n",
    "Finally print the list of the Employee objects."
   ]
  },
  {
   "cell_type": "code",
   "execution_count": 3,
   "id": "60cf48a5",
   "metadata": {},
   "outputs": [
    {
     "name": "stdout",
     "output_type": "stream",
     "text": [
      "List of Employee objects:\n",
      "Name: John Doe, DOB: 1990-05-15, Height: 175, City: New York, State: NY\n",
      "Name: Jane Smith, DOB: 1985-08-22, Height: 162, City: Los Angeles, State: CA\n",
      "Name: Bob Johnson, DOB: 1993-03-10, Height: 180, City: Chicago, State: IL\n",
      "Name: Alice Brown, DOB: 1988-11-30, Height: 168, City: Houston, State: TX\n",
      "Name: Charlie Wilson, DOB: 1995-07-05, Height: 185, City: San Francisco, State: CA\n"
     ]
    }
   ],
   "source": [
    "import json\n",
    "\n",
    "class Employee:\n",
    "    def __init__(self, name, dob, height, city, state):\n",
    "        self.name = name\n",
    "        self.dob = dob\n",
    "        self.height = height\n",
    "        self.city = city\n",
    "        self.state = state\n",
    "\n",
    "def read_employee_data_from_json(json_file):\n",
    "    employee_list = []\n",
    "    \n",
    "    try:\n",
    "        with open(json_file, 'r') as file:\n",
    "            data = json.load(file)\n",
    "            \n",
    "            for employee_data in data:\n",
    "                name = employee_data['Name']\n",
    "                dob = employee_data['DOB']\n",
    "                height = employee_data['Height']\n",
    "                city = employee_data['City']\n",
    "                state = employee_data['State']\n",
    "                \n",
    "                employee = Employee(name, dob, height, city, state)\n",
    "                employee_list.append(employee)\n",
    "    \n",
    "    except FileNotFoundError:\n",
    "        print(f\"File '{json_file}' not found.\")\n",
    "    \n",
    "    return employee_list\n",
    "\n",
    "def main():\n",
    "    json_file = 'employee.json'\n",
    "    employees = read_employee_data_from_json(json_file)\n",
    "    \n",
    "    print(\"List of Employee objects:\")\n",
    "    for employee in employees:\n",
    "        print(f\"Name: {employee.name}, DOB: {employee.dob}, Height: {employee.height}, City: {employee.city}, State: {employee.state}\")\n",
    "\n",
    "if __name__ == \"__main__\":\n",
    "    main()\n"
   ]
  },
  {
   "cell_type": "code",
   "execution_count": null,
   "id": "330cb0d1",
   "metadata": {},
   "outputs": [],
   "source": []
  },
  {
   "cell_type": "code",
   "execution_count": null,
   "id": "331c6125",
   "metadata": {},
   "outputs": [],
   "source": [
    " 2. Create a dictionary of any 7 Indian states and their capitals. Write this into a JSON file."
   ]
  },
  {
   "cell_type": "code",
   "execution_count": 4,
   "id": "b882f56b",
   "metadata": {
    "scrolled": true
   },
   "outputs": [
    {
     "name": "stdout",
     "output_type": "stream",
     "text": [
      "The data has been written to 'indian_states_and_capitals.json' successfully.\n"
     ]
    }
   ],
   "source": [
    "import json\n",
    "\n",
    "# Create a dictionary of Indian states and their capitals\n",
    "indian_states_and_capitals = {\n",
    "    \"Andhra Pradesh\": \"Amaravati\",\n",
    "    \"Bihar\": \"Patna\",\n",
    "    \"Karnataka\": \"Bengaluru\",\n",
    "    \"Maharashtra\": \"Mumbai\",\n",
    "    \"Rajasthan\": \"Jaipur\",\n",
    "    \"Tamil Nadu\": \"Chennai\",\n",
    "    \"Uttar Pradesh\": \"Lucknow\"\n",
    "}\n",
    "\n",
    "# Define the output JSON file name\n",
    "json_file = \"indian_states_and_capitals.json\"\n",
    "\n",
    "# Write the dictionary to a JSON file\n",
    "with open(json_file, \"w\") as file:\n",
    "    json.dump(indian_states_and_capitals, file)\n",
    "\n",
    "print(f\"The data has been written to '{json_file}' successfully.\")\n"
   ]
  },
  {
   "cell_type": "markdown",
   "id": "d470a118",
   "metadata": {},
   "source": [
    "## Assognment 2"
   ]
  },
  {
   "cell_type": "code",
   "execution_count": null,
   "id": "23509bfc",
   "metadata": {},
   "outputs": [],
   "source": [
    "1. Create a class named ‘Dog’. It should have a constructor which accepts its name, age and coat color. You must perform the following operations:\n",
    "\n",
    "🔴 a. It should have a function ‘description()’ which prints the name and age of the dog.\n",
    "🔴 b. It should have a function ‘get_info()’ which prints the coat color of the dog.\n",
    "🔴 c. Create child classes ‘JackRussellTerrier’ and ‘Bulldog’ which is inherited from the class ‘Dog’. It should have at least two methods of its own.\n",
    "🔴 d. Create objects and implement the above functionalities."
   ]
  },
  {
   "cell_type": "code",
   "execution_count": 5,
   "id": "ee1d0325",
   "metadata": {},
   "outputs": [],
   "source": [
    "class Dog:\n",
    "    def __init__(self, name, age, coat_color):\n",
    "        self.name = name\n",
    "        self.age = age\n",
    "        self.coat_color = coat_color\n",
    "\n",
    "    def description(self):\n",
    "        print(f\"{self.name} is {self.age} years old.\")\n",
    "\n",
    "    def get_info(self):\n",
    "        print(f\"{self.name}'s coat color is {self.coat_color}.\")\n",
    "\n",
    "class JackRussellTerrier(Dog):\n",
    "    def __init__(self, name, age, coat_color, energy_level):\n",
    "        super().__init__(name, age, coat_color)\n",
    "        self.energy_level = energy_level\n",
    "\n",
    "    def bark(self):\n",
    "        print(f\"{self.name} the Jack Russell Terrier is barking loudly!\")\n",
    "\n",
    "    def fetch(self):\n",
    "        print(f\"{self.name} loves playing fetch!\")\n",
    "\n",
    "class Bulldog(Dog):\n",
    "    def __init__(self, name, age, coat_color, weight):\n",
    "        super().__init__(name, age, coat_color)\n",
    "        self.weight = weight\n",
    "\n",
    "    def snore(self):\n",
    "        print(f\"{self.name} the Bulldog is snoring loudly!\")\n",
    "\n",
    "    def eat(self):\n",
    "        print(f\"{self.name} is enjoying a hearty meal!\")"
   ]
  },
  {
   "cell_type": "code",
   "execution_count": 6,
   "id": "ce9a41f8",
   "metadata": {},
   "outputs": [],
   "source": [
    "# Create Dog objects\n",
    "dog1 = Dog(\"Buddy\", 3, \"Brown\")\n",
    "dog2 = JackRussellTerrier(\"Rex\", 2, \"White and Brown\", \"High\")\n",
    "dog3 = Bulldog(\"Max\", 5, \"White\", \"Heavy\")"
   ]
  },
  {
   "cell_type": "code",
   "execution_count": 8,
   "id": "d8f62c67",
   "metadata": {},
   "outputs": [
    {
     "name": "stdout",
     "output_type": "stream",
     "text": [
      "Buddy is 3 years old.\n",
      "Buddy's coat color is Brown.\n"
     ]
    }
   ],
   "source": [
    "# Use the methods\n",
    "dog1.description()\n",
    "dog1.get_info()"
   ]
  },
  {
   "cell_type": "code",
   "execution_count": 9,
   "id": "59ca22cc",
   "metadata": {},
   "outputs": [
    {
     "name": "stdout",
     "output_type": "stream",
     "text": [
      "Rex is 2 years old.\n",
      "Rex's coat color is White and Brown.\n",
      "Rex the Jack Russell Terrier is barking loudly!\n",
      "Rex loves playing fetch!\n"
     ]
    }
   ],
   "source": [
    "dog2.description()\n",
    "dog2.get_info()\n",
    "dog2.bark()\n",
    "dog2.fetch()"
   ]
  },
  {
   "cell_type": "code",
   "execution_count": 10,
   "id": "cb70792e",
   "metadata": {},
   "outputs": [
    {
     "name": "stdout",
     "output_type": "stream",
     "text": [
      "Max is 5 years old.\n",
      "Max's coat color is White.\n",
      "Max the Bulldog is snoring loudly!\n",
      "Max is enjoying a hearty meal!\n"
     ]
    }
   ],
   "source": [
    "dog3.description()\n",
    "dog3.get_info()\n",
    "dog3.snore()\n",
    "dog3.eat()"
   ]
  },
  {
   "cell_type": "code",
   "execution_count": null,
   "id": "b52b6a9e",
   "metadata": {},
   "outputs": [],
   "source": []
  }
 ],
 "metadata": {
  "kernelspec": {
   "display_name": "Python 3 (ipykernel)",
   "language": "python",
   "name": "python3"
  },
  "language_info": {
   "codemirror_mode": {
    "name": "ipython",
    "version": 3
   },
   "file_extension": ".py",
   "mimetype": "text/x-python",
   "name": "python",
   "nbconvert_exporter": "python",
   "pygments_lexer": "ipython3",
   "version": "3.10.9"
  }
 },
 "nbformat": 4,
 "nbformat_minor": 5
}
